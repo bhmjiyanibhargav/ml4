{
 "cells": [
  {
   "cell_type": "markdown",
   "id": "e46d1412",
   "metadata": {},
   "source": [
    "# question 01"
   ]
  },
  {
   "cell_type": "code",
   "execution_count": null,
   "id": "3cb8c670",
   "metadata": {},
   "outputs": [],
   "source": [
    "# Assuming you have actual and predicted house prices in two lists, y_actual and y_predicted\n",
    "\n",
    "# Mean Absolute Error (MAE) Calculation\n",
    "def calculate_mae(y_actual, y_predicted):\n",
    "    n = len(y_actual)\n",
    "    mae = sum(abs(y_actual[i] - y_predicted[i]) for i in range(n)) / n\n",
    "    return mae\n",
    "\n",
    "mae = calculate_mae(y_actual, y_predicted)\n",
    "print(f\"Mean Absolute Error (MAE): {mae}\")\n",
    "\n",
    "# Mean Absolute Percentage Error (MAPE) Calculation\n",
    "def calculate_mape(y_actual, y_predicted):\n",
    "    n = len(y_actual)\n",
    "    mape = (1/n) * sum(abs((y_actual[i] - y_predicted[i]) / y_actual[i]) * 100 for i in range(n))\n",
    "    return mape\n",
    "\n",
    "mape = calculate_mape(y_actual, y_predicted)\n",
    "print(f\"Mean Absolute Percentage Error (MAPE): {mape}%\")\n"
   ]
  },
  {
   "cell_type": "markdown",
   "id": "47aec7c5",
   "metadata": {},
   "source": [
    "# question 02"
   ]
  },
  {
   "cell_type": "code",
   "execution_count": null,
   "id": "260a6e85",
   "metadata": {},
   "outputs": [],
   "source": [
    "from sklearn.metrics import mean_squared_error, r2_score\n",
    "import numpy as np\n",
    "\n",
    "# Assuming you have actual and predicted house prices in two arrays, y_actual and y_predicted\n",
    "\n",
    "# Calculate Mean Squared Error (MSE)\n",
    "mse = mean_squared_error(y_actual, y_predicted)\n",
    "print(f\"Mean Squared Error (MSE): {mse}\")\n",
    "\n",
    "# Calculate R-squared (R²)\n",
    "r_squared = r2_score(y_actual, y_predicted)\n",
    "print(f\"R-squared (R²): {r_squared}\")\n"
   ]
  },
  {
   "cell_type": "markdown",
   "id": "438c1a1b",
   "metadata": {},
   "source": [
    "# question 03"
   ]
  },
  {
   "cell_type": "code",
   "execution_count": null,
   "id": "62b5aff4",
   "metadata": {},
   "outputs": [],
   "source": [
    "from sklearn.metrics import mean_absolute_error\n",
    "\n",
    "# Assuming you have actual and predicted house prices in two arrays, y_actual and y_predicted\n",
    "\n",
    "# Calculate Mean Absolute Error (MAE)\n",
    "mae = mean_absolute_error(y_actual, y_predicted)\n",
    "print(f\"Mean Absolute Error (MAE): {mae}\")\n"
   ]
  },
  {
   "cell_type": "markdown",
   "id": "e784d103",
   "metadata": {},
   "source": [
    "# question 04"
   ]
  },
  {
   "cell_type": "code",
   "execution_count": null,
   "id": "9e45c180",
   "metadata": {},
   "outputs": [],
   "source": [
    "from sklearn.metrics import mean_squared_error\n",
    "import numpy as np\n",
    "\n",
    "# Assuming you have actual and predicted house prices in two arrays, y_actual and y_predicted\n",
    "\n",
    "# Calculate Mean Squared Error (MSE)\n",
    "mse = mean_squared_error(y_actual, y_predicted)\n",
    "print(f\"Mean Squared Error (MSE): {mse}\")\n",
    "\n",
    "# Calculate Root Mean Squared Error (RMSE)\n",
    "rmse = np.sqrt(mse)\n",
    "print(f\"Root Mean Squared Error (RMSE): {rmse}\")\n"
   ]
  },
  {
   "cell_type": "markdown",
   "id": "1ea61504",
   "metadata": {},
   "source": [
    "# question 05"
   ]
  },
  {
   "cell_type": "code",
   "execution_count": null,
   "id": "5d724efc",
   "metadata": {},
   "outputs": [],
   "source": [
    "from sklearn.svm import SVR\n",
    "from sklearn.metrics import r2_score\n",
    "\n",
    "# Assuming you have already trained the SVM models and obtained predictions\n",
    "\n",
    "# Define the actual and predicted values for each model\n",
    "y_actual = ...  # Actual values\n",
    "y_predicted_linear = ...  # Predicted values for linear kernel\n",
    "y_predicted_poly = ...  # Predicted values for polynomial kernel\n",
    "y_predicted_rbf = ...  # Predicted values for RBF kernel\n",
    "\n",
    "# Calculate R-squared (R²) for each model\n",
    "r2_linear = r2_score(y_actual, y_predicted_linear)\n",
    "r2_poly = r2_score(y_actual, y_predicted_poly)\n",
    "r2_rbf = r2_score(y_actual, y_predicted_rbf)\n",
    "\n",
    "print(f\"R-squared (R²) for Linear Kernel: {r2_linear}\")\n",
    "print(f\"R-squared (R²) for Polynomial Kernel: {r2_poly}\")\n",
    "print(f\"R-squared (R²) for RBF Kernel: {r2_rbf}\")\n"
   ]
  },
  {
   "cell_type": "code",
   "execution_count": null,
   "id": "98f3f266",
   "metadata": {},
   "outputs": [],
   "source": []
  },
  {
   "cell_type": "code",
   "execution_count": null,
   "id": "d6fd335e",
   "metadata": {},
   "outputs": [],
   "source": []
  },
  {
   "cell_type": "code",
   "execution_count": null,
   "id": "0efa47a2",
   "metadata": {},
   "outputs": [],
   "source": []
  },
  {
   "cell_type": "code",
   "execution_count": null,
   "id": "2ab83f21",
   "metadata": {},
   "outputs": [],
   "source": []
  }
 ],
 "metadata": {
  "kernelspec": {
   "display_name": "Python 3 (ipykernel)",
   "language": "python",
   "name": "python3"
  },
  "language_info": {
   "codemirror_mode": {
    "name": "ipython",
    "version": 3
   },
   "file_extension": ".py",
   "mimetype": "text/x-python",
   "name": "python",
   "nbconvert_exporter": "python",
   "pygments_lexer": "ipython3",
   "version": "3.11.4"
  }
 },
 "nbformat": 4,
 "nbformat_minor": 5
}
